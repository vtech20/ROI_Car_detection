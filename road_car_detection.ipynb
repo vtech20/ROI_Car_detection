{
  "cells": [
    {
      "cell_type": "markdown",
      "metadata": {},
      "source": [
        "# Abstract\n",
        "The problem statement is to detect the cars in a youtube video only in the certain region of interest and should not detect the cars in the sideways using yolov5 algorithm"
      ]
    },
    {
      "cell_type": "markdown",
      "metadata": {},
      "source": [
        "Yolov5 -  It is a novel convolutional neural network (CNN) that detects objects in real-time with great accuracy."
      ]
    },
    {
      "cell_type": "markdown",
      "metadata": {},
      "source": [
        "Here we are using the Yolov5 pretained model as the object to be detected is a car which was already pretrained in yolo v5."
      ]
    },
    {
      "cell_type": "markdown",
      "metadata": {},
      "source": [
        "We are using OpenCV for image and frame processing and pytbue for downloading the youtube video to local. Pytorch for for loading the pretrained yolov5 model and its weights"
      ]
    },
    {
      "cell_type": "code",
      "execution_count": 1,
      "metadata": {
        "colab": {
          "base_uri": "https://localhost:8080/"
        },
        "id": "1ESshxonCgdq",
        "outputId": "b1745e05-e3fe-460a-c032-842ce060ac91"
      },
      "outputs": [
        {
          "name": "stdout",
          "output_type": "stream",
          "text": [
            "Looking in indexes: https://pypi.org/simple, https://us-python.pkg.dev/colab-wheels/public/simple/\n",
            "Collecting pytube\n",
            "  Downloading pytube-12.1.0-py3-none-any.whl (56 kB)\n",
            "\u001b[K     |████████████████████████████████| 56 kB 5.0 MB/s \n",
            "\u001b[?25hInstalling collected packages: pytube\n",
            "Successfully installed pytube-12.1.0\n"
          ]
        }
      ],
      "source": [
        "!pip install pytube"
      ]
    },
    {
      "cell_type": "code",
      "execution_count": 2,
      "metadata": {
        "colab": {
          "base_uri": "https://localhost:8080/",
          "height": 35
        },
        "id": "4rLPQytCDRC1",
        "outputId": "79ec8aa4-c66b-4de5-dcd0-e1927a6e42a5"
      },
      "outputs": [
        {
          "data": {
            "application/vnd.google.colaboratory.intrinsic+json": {
              "type": "string"
            },
            "text/plain": [
              "'/content/4K Video of Highway Traffic!.mp4'"
            ]
          },
          "execution_count": 2,
          "metadata": {},
          "output_type": "execute_result"
        }
      ],
      "source": [
        "#Download youtube video to local path\n",
        "from pytube import YouTube\n",
        "yt = YouTube(\"https://www.youtube.com/watch?v=KBsqQez-O4w\")\n",
        "yt.streams.filter(file_extension=\"mp4\").get_by_resolution(\"360p\").download('/content')"
      ]
    },
    {
      "cell_type": "code",
      "execution_count": 3,
      "metadata": {
        "id": "8NW0juZVDrlD"
      },
      "outputs": [],
      "source": [
        "video_path = '/content/4K Video of Highway Traffic!.mp4'"
      ]
    },
    {
      "cell_type": "markdown",
      "metadata": {},
      "source": [
        "# Importing packages"
      ]
    },
    {
      "cell_type": "code",
      "execution_count": 4,
      "metadata": {
        "id": "4Nlsy8vqQwVg"
      },
      "outputs": [],
      "source": [
        "import numpy as np\n",
        "import torch\n",
        "import cv2\n",
        "import time\n",
        "import os\n",
        "from google.colab.patches import cv2_imshow\n",
        "from pathlib import Path"
      ]
    },
    {
      "cell_type": "markdown",
      "metadata": {},
      "source": [
        "# Processing Video"
      ]
    },
    {
      "cell_type": "code",
      "execution_count": 5,
      "metadata": {
        "colab": {
          "base_uri": "https://localhost:8080/"
        },
        "id": "0rvCaMbpQynA",
        "outputId": "dd2bae42-f1d3-40f0-e547-7a57820f53f3"
      },
      "outputs": [
        {
          "name": "stdout",
          "output_type": "stream",
          "text": [
            "FPS :  29.97002997002997\n",
            "Frame Width :  640.0\n",
            "Frame Height :  360.0\n",
            "4509\n"
          ]
        }
      ],
      "source": [
        "#get the basic details of the video\n",
        "cap=cv2.VideoCapture(video_path)\n",
        "total = int(cap.get(cv2.CAP_PROP_FRAME_COUNT))\n",
        "print(\"FPS : \",cap.get(cv2.CAP_PROP_FPS))\n",
        "print(\"Frame Width : \",cap.get(cv2.CAP_PROP_FRAME_WIDTH))\n",
        "print(\"Frame Height : \",cap.get(cv2.CAP_PROP_FRAME_HEIGHT))\n",
        "print(total)"
      ]
    },
    {
      "cell_type": "code",
      "execution_count": 7,
      "metadata": {
        "colab": {
          "base_uri": "https://localhost:8080/"
        },
        "id": "giTQNV0mD1vS",
        "outputId": "dc681e4d-163b-43a8-bf1b-4e2ae5c4f017"
      },
      "outputs": [
        {
          "name": "stderr",
          "output_type": "stream",
          "text": [
            "Using cache found in /root/.cache/torch/hub/ultralytics_yolov5_master\n",
            "YOLOv5 🚀 2022-11-14 Python-3.7.15 torch-1.12.1+cu113 CPU\n",
            "\n",
            "Fusing layers... \n",
            "YOLOv5s summary: 213 layers, 7225885 parameters, 0 gradients\n",
            "Adding AutoShape... \n"
          ]
        }
      ],
      "source": [
        "bs = 10000\n",
        "i = 0\n",
        "vid_path, vid_writer = [None] * bs, [None] * bs\n",
        "\n",
        "save_path = \"/content/output\"\n",
        "\n",
        "#Load video\n",
        "cap=cv2.VideoCapture(video_path)\n",
        "\n",
        "#out = cv2.VideoWriter('output.mp4', fourcc, 25.0, (600,500))\n",
        "\n",
        "#Defining the codec, in this case we are using MJPEG\n",
        "out1 = cv2.VideoWriter('outpy.avi',cv2.VideoWriter_fourcc('M','J','P','G'), 25, (600,500))\n",
        "\n",
        "#Loading the Yolov5 using torch.hub.load\n",
        "\n",
        "model = torch.hub.load('ultralytics/yolov5', 'yolov5s', pretrained=True)\n",
        "\n",
        "b=model.names[2] = 'car'\n",
        "\n",
        "size=300\n",
        "\n",
        "count=0\n",
        "counter=0\n",
        "\n",
        "color=(0,0,255)\n",
        "\n",
        "cy1=214\n",
        "offset=6\n",
        "list=[]\n",
        "#number of input frames is 4059\n",
        "while count <=4059:\n",
        "    ret,img=cap.read()\n",
        "\n",
        "    count += 1\n",
        "    #print(\"Count is \",count)\n",
        "    #if count % 4 != 0:\n",
        "        #continue\n",
        "    img=cv2.resize(img,(600,500))\n",
        "    results = model(img,size)\n",
        "    cv2.line(img,(1,215),(595,215),(color),3)\n",
        "    a=results.pandas().xyxy[0]['name'].to_list()\n",
        "  \n",
        "  \n",
        "  \n",
        "\n",
        "    for index, row in results.pandas().xyxy[0].iterrows():\n",
        "        #print(\"index is : \",index)\n",
        "        x1 = int(row['xmin'])\n",
        "        y1 = int(row['ymin'])\n",
        "        x2 = int(row['xmax'])\n",
        "        y2 = int(row['ymax'])\n",
        "        d=(row['class'])\n",
        "        \n",
        "       \n",
        "       \n",
        "        if d==2:   #if the predicted is a car\n",
        "         \n",
        "           cv2.rectangle(img, (x1, y1), (x2, y2), (255,0,255), 2)\n",
        "           rect1x, rect1y = ((x1+x2)/2, (y1+y2)/2)\n",
        "           rect1center = int(rect1x),int(rect1y)\n",
        "           cx=rect1center[0]\n",
        "           cy=rect1center[1]\n",
        "           cv2.putText(img,str(b),(x1,y1),cv2.FONT_HERSHEY_PLAIN,2,(255,255,255),2)\n",
        "           cv2.circle(img,(cx,cy),1,(255,0,0),-1)\n",
        "           if cy<(cy1+offset) and cy>(cy1-offset):\n",
        "              cv2.line(img,(1,215),(595,215),(0,255,0),3)\n",
        "              counter+=1\n",
        "              print(counter)\n",
        "              \n",
        "        \n",
        "           #cv2.putText(img,\"Cars\"+ str(counter),(10,100),cv2.FONT_HERSHEY_PLAIN,2,(255,255,0),2)\n",
        "                \n",
        "                    \n",
        "      \n",
        "    #if count % 4 == 0:\n",
        "      #print(\"i value is \",i) \n",
        "    out1.write(img)\n",
        "    #if count <=20:\n",
        "      #cv2_imshow(img)\n",
        "    #else:\n",
        "      #break\n",
        "\n",
        "  \n",
        "    if cv2.waitKey(3)&0xFF==27:\n",
        "      break\n",
        "\n",
        "cap.release()\n",
        "out1.release()"
      ]
    },
    {
      "cell_type": "code",
      "execution_count": null,
      "metadata": {
        "id": "33JS6U2jddWK"
      },
      "outputs": [],
      "source": []
    }
  ],
  "metadata": {
    "colab": {
      "collapsed_sections": [],
      "provenance": []
    },
    "kernelspec": {
      "display_name": "Python 3.8.1 32-bit",
      "language": "python",
      "name": "python3"
    },
    "language_info": {
      "name": "python",
      "version": "3.8.1"
    },
    "vscode": {
      "interpreter": {
        "hash": "6d1e45cadc3597bb8b6600530fbdf8c3eefe919a24ef54d9d32b318795b772e0"
      }
    }
  },
  "nbformat": 4,
  "nbformat_minor": 0
}
